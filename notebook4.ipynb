{
 "cells": [
  {
   "cell_type": "markdown",
   "id": "d8bba665",
   "metadata": {},
   "source": [
    "<img src=\"https://www.sturgischarterschool.com/wp-content/uploads/2019/06/sturgisheader_logo.png\" alt=\"sturgis\" width=\"250\" align=\"right\"/>\n",
    "\n",
    "## Computer Science 'Mini-IA' notebook 4\n",
    "### Sturgis Charter Public School \n",
    "\n"
   ]
  },
  {
   "cell_type": "markdown",
   "id": "681696fb",
   "metadata": {},
   "source": [
    "Student: [your name here]\n",
    "\n",
    "Collaborators: [N/A] (suggested, groups of 2 or 3), a groups code may be identical, but my desire is that members are equal contributors. \n",
    "\n",
    "Notes to the teacher: [N/A]"
   ]
  },
  {
   "cell_type": "markdown",
   "id": "16bf0839",
   "metadata": {},
   "source": [
    "### Learning Objectives for notebook \n",
    "* This notebook is a little different. My goal is for you to build a miniature IA. \n",
    "* In case you're interested in opening csv files. This might be a useful output format. [CSV files](https://realpython.com/python-csv/)\n",
    "* The IA takes the form of a client, who has a specified problem or unanswered question. While the [actual IA](CS_IA_Guide.pdf) is done individually. For the purposes of this preparatory mini-IA students will work in groups of 3-4 students. Each group will have the same client (the teacher) with the same specified problem. \n",
    "* It might be helpful to see the [IA rubric](CSIARubric.pdf) as well. "
   ]
  },
  {
   "cell_type": "markdown",
   "id": "8b634d53",
   "metadata": {},
   "source": [
    "### The Client\n",
    "\n",
    "* My needs are very simple. I have a database of words, they are labeled by part of speech...sorry my labels are a little weird, you're going to have to figure them out. I want a random phrase generator that can produce phrases of 2-5 words. I want the words to make sense. \n",
    "* I'm fine with back-end development, which is to say that it can just live in the jupyter notebook. However, as a stretch goal, I would be happy to have a document of 10,000 randomly generated phrases either on a CSV or on a .txt file.\n",
    "* Thank you!"
   ]
  },
  {
   "cell_type": "code",
   "execution_count": null,
   "id": "963072ef",
   "metadata": {},
   "outputs": [],
   "source": [
    "import csv"
   ]
  },
  {
   "cell_type": "code",
   "execution_count": null,
   "id": "fb3eb272",
   "metadata": {},
   "outputs": [],
   "source": [
    "# I ran this to populate a csv database. You do not need to run this (and probably can't unless you have the nltk package)\n",
    "'''from nltk.corpus import brown\n",
    "database = []\n",
    "for line in brown.tagged_sents():\n",
    "    database.append(line)\n",
    "    \n",
    "with open('br_corpus.csv', 'w', encoding='UTF8') as file:\n",
    "    writer = csv.writer(file)\n",
    "    writer.writerows(database[:10000])'''"
   ]
  },
  {
   "cell_type": "code",
   "execution_count": null,
   "id": "9c1d5a25",
   "metadata": {},
   "outputs": [],
   "source": [
    "#This is reading in the data\n",
    "database = []\n",
    "with open('br_corpus.csv', 'r', encoding= 'utf8') as file:\n",
    "    csv_reader = csv.reader(file, delimiter=',')\n",
    "    for row in csv_reader:\n",
    "        database.append(row)"
   ]
  },
  {
   "cell_type": "code",
   "execution_count": null,
   "id": "e1ed5f4b",
   "metadata": {},
   "outputs": [],
   "source": [
    "#Just a few lines of code showing what's in the database\n",
    "print(\"Number of lines in the database\", len(database))\n",
    "counter = 0\n",
    "for line in database:\n",
    "    for word in line:\n",
    "        counter += 1\n",
    "print(\"Number of words in the database\", counter)\n",
    "print(\"Type of words\", type(database[0][0]))"
   ]
  },
  {
   "cell_type": "code",
   "execution_count": null,
   "id": "fc590219",
   "metadata": {},
   "outputs": [],
   "source": [
    "#Here I transform your database into a corpus. This should be much easier to handle.\n",
    "corpus = {}\n",
    "for line in database:\n",
    "    for word in line:\n",
    "        pair = word.split(\",\")\n",
    "        temp = []\n",
    "        for p in pair:\n",
    "            p = p.strip(\")\\\" (\\'\")\n",
    "            temp.append(p)\n",
    "        corpus[temp[0]] = temp[1]"
   ]
  },
  {
   "cell_type": "code",
   "execution_count": null,
   "id": "84a2335f",
   "metadata": {},
   "outputs": [],
   "source": [
    "#Your code here\n",
    "raise NotImplementedError()"
   ]
  }
 ],
 "metadata": {
  "kernelspec": {
   "display_name": "Python 3 (ipykernel)",
   "language": "python",
   "name": "python3"
  },
  "language_info": {
   "codemirror_mode": {
    "name": "ipython",
    "version": 3
   },
   "file_extension": ".py",
   "mimetype": "text/x-python",
   "name": "python",
   "nbconvert_exporter": "python",
   "pygments_lexer": "ipython3",
   "version": "3.9.7"
  }
 },
 "nbformat": 4,
 "nbformat_minor": 5
}
